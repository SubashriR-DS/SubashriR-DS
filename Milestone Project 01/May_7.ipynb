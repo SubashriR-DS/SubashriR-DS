{
  "nbformat": 4,
  "nbformat_minor": 0,
  "metadata": {
    "colab": {
      "provenance": []
    },
    "kernelspec": {
      "name": "python3",
      "display_name": "Python 3"
    },
    "language_info": {
      "name": "python"
    }
  },
  "cells": [
    {
      "cell_type": "markdown",
      "source": [
        "### Python interactive Program\n",
        "- Grab user input\n",
        "- Manipulate a variable in python script\n",
        "- Return back with updated value\n"
      ],
      "metadata": {
        "id": "0fmBcNBqPSv3"
      }
    },
    {
      "cell_type": "code",
      "source": [
        "# Display the information\n",
        "\n",
        "print([1,2,3])"
      ],
      "metadata": {
        "colab": {
          "base_uri": "https://localhost:8080/"
        },
        "id": "A5KZ1xzPPREV",
        "outputId": "39c552d1-04ef-4657-b888-534cc5d0ae0c"
      },
      "execution_count": 25,
      "outputs": [
        {
          "output_type": "stream",
          "name": "stdout",
          "text": [
            "[1, 2, 3]\n"
          ]
        }
      ]
    },
    {
      "cell_type": "code",
      "source": [
        "# Display the information -3\n",
        "print([7,8,9])\n",
        "print([4,5,6])\n",
        "print([1,2,3])"
      ],
      "metadata": {
        "colab": {
          "base_uri": "https://localhost:8080/"
        },
        "id": "UVgF4zItPjU_",
        "outputId": "49c757a4-0836-4728-d0ed-e978f004c446"
      },
      "execution_count": 26,
      "outputs": [
        {
          "output_type": "stream",
          "name": "stdout",
          "text": [
            "[7, 8, 9]\n",
            "[4, 5, 6]\n",
            "[1, 2, 3]\n"
          ]
        }
      ]
    },
    {
      "cell_type": "code",
      "source": [
        "# Display the information -3\n",
        "row1 = [7,8,9]\n",
        "row2 = [4,5,6]\n",
        "row3 = [1,2,3]"
      ],
      "metadata": {
        "id": "eKlFT2FwSX3B"
      },
      "execution_count": 27,
      "outputs": []
    },
    {
      "cell_type": "code",
      "source": [
        "# use function to display infor\n",
        "\n",
        "\n",
        "def display(row1,row2,row3):\n",
        "  print(row1)\n",
        "  print(row2)\n",
        "  print(row3)"
      ],
      "metadata": {
        "id": "LiD_dS6HPvQI"
      },
      "execution_count": 28,
      "outputs": []
    },
    {
      "cell_type": "code",
      "source": [
        "display(row1,row2,row3)"
      ],
      "metadata": {
        "colab": {
          "base_uri": "https://localhost:8080/"
        },
        "id": "p835reBcQFQz",
        "outputId": "e20acf51-d9e9-4742-b98d-ecc291fb59be"
      },
      "execution_count": 29,
      "outputs": [
        {
          "output_type": "stream",
          "name": "stdout",
          "text": [
            "[7, 8, 9]\n",
            "[4, 5, 6]\n",
            "[1, 2, 3]\n"
          ]
        }
      ]
    },
    {
      "cell_type": "markdown",
      "source": [
        "##  Simple Interaction Program\n",
        "- Display the index value\n",
        "- User choose an index postion and die input value\n",
        "- Replace a value in that position"
      ],
      "metadata": {
        "id": "KtTY4S1YUu7N"
      }
    },
    {
      "cell_type": "code",
      "source": [
        "# 1. Dispay Game List\n",
        "\n",
        "game_list= [0,1,2]"
      ],
      "metadata": {
        "id": "J7It0UnOVj7c"
      },
      "execution_count": 30,
      "outputs": []
    },
    {
      "cell_type": "code",
      "source": [
        "# function for display game list----------function 1\n",
        "\n",
        "def display_game(game_list):\n",
        "  print(game_list)\n",
        "  print('Here is the currect list')"
      ],
      "metadata": {
        "id": "k9j5eZNSVjyy"
      },
      "execution_count": 31,
      "outputs": []
    },
    {
      "cell_type": "code",
      "source": [
        "# Get  a position Choice ----------function 2\n",
        "\n",
        "def postion_choice():\n",
        "  choice ='Wrong'\n",
        "  while choice not in ['0','1','2']:\n",
        "    # choice pssed in string\n",
        "    choice =input('Pick a position (0,1,2)')\n",
        "\n",
        "    if choice not in ['0','1','2']:\n",
        "      print('Sorry! Invalid choice')\n",
        "\n",
        "\n",
        "  return int(choice)\n"
      ],
      "metadata": {
        "id": "IXCN9-h-VjMw"
      },
      "execution_count": 32,
      "outputs": []
    },
    {
      "cell_type": "code",
      "source": [
        "# function call for position_choice\n",
        "postion_choice()"
      ],
      "metadata": {
        "colab": {
          "base_uri": "https://localhost:8080/"
        },
        "id": "g_SeaYnpXtGf",
        "outputId": "fa648f5b-9aa0-4a85-a156-8c209e96afbb"
      },
      "execution_count": 33,
      "outputs": [
        {
          "name": "stdout",
          "output_type": "stream",
          "text": [
            "Pick a position (0,1,2)5\n",
            "Sorry! Invalid choice\n",
            "Pick a position (0,1,2)1\n"
          ]
        },
        {
          "output_type": "execute_result",
          "data": {
            "text/plain": [
              "1"
            ]
          },
          "metadata": {},
          "execution_count": 33
        }
      ]
    },
    {
      "cell_type": "code",
      "source": [
        "# Replacement value for the selected postion ----------function 3\n",
        "\n",
        "def replacement_string(game_list,position):\n",
        "  user_placement = input('Type a string to place at position :  ')\n",
        "  game_list[position]=user_placement\n",
        "  return game_list\n",
        "\n"
      ],
      "metadata": {
        "id": "dOaLIVovX1HN"
      },
      "execution_count": 38,
      "outputs": []
    },
    {
      "cell_type": "code",
      "source": [
        "replacement_string(game_list,1)"
      ],
      "metadata": {
        "colab": {
          "base_uri": "https://localhost:8080/"
        },
        "id": "CKEcA4iZYuTd",
        "outputId": "6522fc77-54e5-442d-dbdb-883f5a9b9374"
      },
      "execution_count": 39,
      "outputs": [
        {
          "name": "stdout",
          "output_type": "stream",
          "text": [
            "Type a string to place at position :  Hello\n"
          ]
        },
        {
          "output_type": "execute_result",
          "data": {
            "text/plain": [
              "[0, 'Hello', 2]"
            ]
          },
          "metadata": {},
          "execution_count": 39
        }
      ]
    },
    {
      "cell_type": "code",
      "source": [
        "# User Keeps Playing ----------function 4\n",
        "\n",
        "def gameon_choice():\n",
        "  choice ='Wrong'\n",
        "  while choice not in ['Yes','No']:\n",
        "    # choice pssed in string\n",
        "    choice = input(\"Do you want to keep play ?('Yes','No')\")\n",
        "\n",
        "    if choice not in ['Yes','No']:\n",
        "      print(\" Sorry! I don't understd please give a correct choice\")\n",
        "\n",
        "  if choice =='Yes':\n",
        "    return True\n",
        "  else:\n",
        "    return False\n"
      ],
      "metadata": {
        "id": "YAjM7WQ9Y4Gu"
      },
      "execution_count": 51,
      "outputs": []
    },
    {
      "cell_type": "code",
      "source": [
        "gameon_choice()"
      ],
      "metadata": {
        "colab": {
          "base_uri": "https://localhost:8080/"
        },
        "id": "dJHY3j-9aYEy",
        "outputId": "81599abc-c820-4671-8ed1-474cea838aaf"
      },
      "execution_count": 52,
      "outputs": [
        {
          "name": "stdout",
          "output_type": "stream",
          "text": [
            "Do you want to keep play ?('Yes','No')y\n",
            " Sorry! I don't understd please give a correct choice\n",
            "Do you want to keep play ?('Yes','No')No\n"
          ]
        },
        {
          "output_type": "execute_result",
          "data": {
            "text/plain": [
              "False"
            ]
          },
          "metadata": {},
          "execution_count": 52
        }
      ]
    },
    {
      "cell_type": "code",
      "source": [
        "# Combine all function to play -------------Function calling\n",
        "\n",
        "\n",
        "game_on = True\n",
        "game_list = [0,1,2]\n",
        "\n",
        "while game_on :\n",
        "  display_game(game_list)\n",
        "  position = postion_choice()\n",
        "  game_list = replacement_string(game_list,position)\n",
        "  display_game(game_list)\n",
        "  game_on = gameon_choice()\n",
        ""
      ],
      "metadata": {
        "colab": {
          "base_uri": "https://localhost:8080/"
        },
        "id": "7TJvxpE_boqY",
        "outputId": "faf29866-0d06-49fd-c8de-95ed02588d65"
      },
      "execution_count": 54,
      "outputs": [
        {
          "name": "stdout",
          "output_type": "stream",
          "text": [
            "[0, 1, 2]\n",
            "Here is the currect list\n",
            "Pick a position (0,1,2)1\n",
            "Type a string to place at position :  BB\n",
            "[0, 'BB', 2]\n",
            "Here is the currect list\n",
            "Do you want to keep play ?('Yes','No')Yes\n",
            "[0, 'BB', 2]\n",
            "Here is the currect list\n",
            "Pick a position (0,1,2)0\n",
            "Type a string to place at position :  AA\n",
            "['AA', 'BB', 2]\n",
            "Here is the currect list\n",
            "Do you want to keep play ?('Yes','No')No\n"
          ]
        }
      ]
    },
    {
      "cell_type": "code",
      "source": [],
      "metadata": {
        "id": "ObKKbD_ldp3E"
      },
      "execution_count": null,
      "outputs": []
    }
  ]
}