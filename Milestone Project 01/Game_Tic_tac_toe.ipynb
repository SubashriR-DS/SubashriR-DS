{
  "nbformat": 4,
  "nbformat_minor": 0,
  "metadata": {
    "colab": {
      "provenance": []
    },
    "kernelspec": {
      "name": "python3",
      "display_name": "Python 3"
    },
    "language_info": {
      "name": "python"
    }
  },
  "cells": [
    {
      "cell_type": "code",
      "execution_count": 1,
      "metadata": {
        "id": "0vCIDInUy_sk"
      },
      "outputs": [],
      "source": [
        "from IPython.display import clear_output\n",
        "\n",
        "def display_board(board):\n",
        "\n",
        "    clear_output()\n",
        "    print(board[7]+'|'+board[8]+'|'+board[9])\n",
        "    print('-|-|-')\n",
        "    print(board[4]+'|'+board[5]+'|'+board[6])\n",
        "    print('-|-|-')\n",
        "    print(board[1]+'|'+board[2]+'|'+board[3])"
      ]
    },
    {
      "cell_type": "code",
      "source": [
        "test_board = ['#','X','O','X','O','X','O','X','O','X']\n",
        "display_board(test_board)"
      ],
      "metadata": {
        "colab": {
          "base_uri": "https://localhost:8080/"
        },
        "id": "so7Cbx13zBtG",
        "outputId": "87681ae0-3e23-4323-eb87-7cb9c4e8ac37"
      },
      "execution_count": 2,
      "outputs": [
        {
          "output_type": "stream",
          "name": "stdout",
          "text": [
            "X|O|X\n",
            "-|-|-\n",
            "O|X|O\n",
            "-|-|-\n",
            "X|O|X\n"
          ]
        }
      ]
    },
    {
      "cell_type": "code",
      "source": [
        "def player_input():\n",
        "  '''\n",
        "  output = (player 1 marker,player 2 marker)\n",
        "  '''\n",
        "\n",
        "  marker =''\n",
        "  while marker != 'X' or 'O':\n",
        "    marker= input('Player1 choose either X or O : ').upper()\n",
        "    if marker == 'X':\n",
        "        return ('X','O')\n",
        "    else:\n",
        "        return ('O','X')"
      ],
      "metadata": {
        "id": "gk_GrYGWzGTE"
      },
      "execution_count": 3,
      "outputs": []
    },
    {
      "cell_type": "code",
      "source": [
        "player_input()"
      ],
      "metadata": {
        "colab": {
          "base_uri": "https://localhost:8080/"
        },
        "id": "5si_rdmOzJ2M",
        "outputId": "dbb42d5e-4125-4738-8d36-9c0b3e1bb1f8"
      },
      "execution_count": 4,
      "outputs": [
        {
          "name": "stdout",
          "output_type": "stream",
          "text": [
            "Player1 choose either X or O : x\n"
          ]
        },
        {
          "output_type": "execute_result",
          "data": {
            "text/plain": [
              "('X', 'O')"
            ]
          },
          "metadata": {},
          "execution_count": 4
        }
      ]
    },
    {
      "cell_type": "code",
      "source": [
        "def place_marker(board, marker, position):\n",
        "    board[position] = marker"
      ],
      "metadata": {
        "id": "NVHIzI6hzkgc"
      },
      "execution_count": 5,
      "outputs": []
    },
    {
      "cell_type": "code",
      "source": [
        "place_marker(test_board,'&',8)\n",
        "display_board(test_board)"
      ],
      "metadata": {
        "colab": {
          "base_uri": "https://localhost:8080/"
        },
        "id": "DZahedojzoq7",
        "outputId": "98aef57b-f9ab-41c3-9e97-c435223f1e58"
      },
      "execution_count": 6,
      "outputs": [
        {
          "output_type": "stream",
          "name": "stdout",
          "text": [
            "X|&|X\n",
            "-|-|-\n",
            "O|X|O\n",
            "-|-|-\n",
            "X|O|X\n"
          ]
        }
      ]
    },
    {
      "cell_type": "code",
      "source": [
        "def win_check(board,mark):\n",
        "\n",
        "    return ((board[7] == mark and board[8] == mark and board[9] == mark) or # across the top\n",
        "    (board[4] == mark and board[5] == mark and board[6] == mark) or # across the middle\n",
        "    (board[1] == mark and board[2] == mark and board[3] == mark) or # across the bottom\n",
        "    (board[7] == mark and board[4] == mark and board[1] == mark) or # down the middle\n",
        "    (board[8] == mark and board[5] == mark and board[2] == mark) or # down the middle\n",
        "    (board[9] == mark and board[6] == mark and board[3] == mark) or # down the right side\n",
        "    (board[7] == mark and board[5] == mark and board[3] == mark) or # diagonal\n",
        "    (board[9] == mark and board[5] == mark and board[1] == mark)) # diagonal"
      ],
      "metadata": {
        "id": "e9EPKNEpzs6g"
      },
      "execution_count": 7,
      "outputs": []
    },
    {
      "cell_type": "code",
      "source": [
        "win_check(test_board,'X')"
      ],
      "metadata": {
        "colab": {
          "base_uri": "https://localhost:8080/"
        },
        "id": "ujwtTnNezv_4",
        "outputId": "5e79bf81-9ab0-48c1-ec93-8547e5663e0b"
      },
      "execution_count": 8,
      "outputs": [
        {
          "output_type": "execute_result",
          "data": {
            "text/plain": [
              "True"
            ]
          },
          "metadata": {},
          "execution_count": 8
        }
      ]
    },
    {
      "cell_type": "code",
      "source": [
        "import random\n",
        "\n",
        "def choose_first():\n",
        "    if random.randint(0, 1) == 0:\n",
        "        return 'Player 2'\n",
        "    else:\n",
        "        return 'Player 1'"
      ],
      "metadata": {
        "id": "B766RvxMzyW9"
      },
      "execution_count": 9,
      "outputs": []
    },
    {
      "cell_type": "code",
      "source": [
        "def space_check(board, position):\n",
        "\n",
        "    return board[position] == ' '"
      ],
      "metadata": {
        "id": "cJTTjAnLz1bv"
      },
      "execution_count": 10,
      "outputs": []
    },
    {
      "cell_type": "code",
      "source": [
        "def full_board_check(board):\n",
        "    for i in range(1,10):\n",
        "        if space_check(board, i):\n",
        "            return False\n",
        "    return True"
      ],
      "metadata": {
        "id": "b-PSMfB8z38J"
      },
      "execution_count": 11,
      "outputs": []
    },
    {
      "cell_type": "code",
      "source": [
        "def player_choice(board):\n",
        "    position = 0\n",
        "\n",
        "    while position not in [1,2,3,4,5,6,7,8,9] or not space_check(board, position):\n",
        "        position = int(input('Choose your next position: (1-9) '))\n",
        "\n",
        "    return position"
      ],
      "metadata": {
        "id": "O19x296Gz6bD"
      },
      "execution_count": 12,
      "outputs": []
    },
    {
      "cell_type": "code",
      "source": [
        "def replay():\n",
        "\n",
        "    return input('Do you want to play again? Enter Yes or No: ').lower().startswith('y')"
      ],
      "metadata": {
        "id": "EnhbIZ0yz820"
      },
      "execution_count": 13,
      "outputs": []
    },
    {
      "cell_type": "code",
      "source": [
        "print('Welcome to Tic Tac Toe!')\n",
        "\n",
        "while True:\n",
        "    # Reset the board\n",
        "    theBoard = [' '] * 10\n",
        "    player1_marker, player2_marker = player_input()\n",
        "    turn = choose_first()\n",
        "    print(turn + ' will go first.')\n",
        "\n",
        "    play_game = input('Are you ready to play? Enter Yes or No.')\n",
        "\n",
        "    if play_game.lower()[0] == 'y':\n",
        "        game_on = True\n",
        "    else:\n",
        "        game_on = False\n",
        "\n",
        "    while game_on:\n",
        "        if turn == 'Player 1':\n",
        "            # Player1's turn.\n",
        "\n",
        "            display_board(theBoard)\n",
        "            position = player_choice(theBoard)\n",
        "            place_marker(theBoard, player1_marker, position)\n",
        "\n",
        "            if win_check(theBoard, player1_marker):\n",
        "                display_board(theBoard)\n",
        "                print('Congratulations! You have won the game!')\n",
        "                game_on = False\n",
        "            else:\n",
        "                if full_board_check(theBoard):\n",
        "                    display_board(theBoard)\n",
        "                    print('The game is a draw!')\n",
        "                    break\n",
        "                else:\n",
        "                    turn = 'Player 2'\n",
        "\n",
        "        else:\n",
        "            # Player2's turn.\n",
        "\n",
        "            display_board(theBoard)\n",
        "            position = player_choice(theBoard)\n",
        "            place_marker(theBoard, player2_marker, position)\n",
        "\n",
        "            if win_check(theBoard, player2_marker):\n",
        "                display_board(theBoard)\n",
        "                print('Player 2 has won!')\n",
        "                game_on = False\n",
        "            else:\n",
        "                if full_board_check(theBoard):\n",
        "                    display_board(theBoard)\n",
        "                    print('The game is a draw!')\n",
        "                    break\n",
        "                else:\n",
        "                    turn = 'Player 1'\n",
        "\n",
        "    if not replay():\n",
        "        break"
      ],
      "metadata": {
        "colab": {
          "base_uri": "https://localhost:8080/"
        },
        "id": "CXFPEEhpz_Zk",
        "outputId": "b1e6ad4f-2cb5-485a-9630-c61585dd4b80"
      },
      "execution_count": 19,
      "outputs": [
        {
          "name": "stdout",
          "output_type": "stream",
          "text": [
            "O| |O\n",
            "-|-|-\n",
            "X|X|X\n",
            "-|-|-\n",
            "O| | \n",
            "Congratulations! You have won the game!\n",
            "Do you want to play again? Enter Yes or No: no\n"
          ]
        }
      ]
    }
  ]
}