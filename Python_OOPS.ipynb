{
  "nbformat": 4,
  "nbformat_minor": 0,
  "metadata": {
    "colab": {
      "provenance": [],
      "authorship_tag": "ABX9TyM4owCZ2JNhLgD4CVuYpYcb",
      "include_colab_link": true
    },
    "kernelspec": {
      "name": "python3",
      "display_name": "Python 3"
    },
    "language_info": {
      "name": "python"
    }
  },
  "cells": [
    {
      "cell_type": "markdown",
      "metadata": {
        "id": "view-in-github",
        "colab_type": "text"
      },
      "source": [
        "<a href=\"https://colab.research.google.com/github/SubashriR-DS/SubashriR-DS/blob/main/Python_OOPS.ipynb\" target=\"_parent\"><img src=\"https://colab.research.google.com/assets/colab-badge.svg\" alt=\"Open In Colab\"/></a>"
      ]
    },
    {
      "cell_type": "code",
      "execution_count": null,
      "metadata": {
        "id": "kfL-bUFf_pAf"
      },
      "outputs": [],
      "source": [
        "# Basically we have two pgmming languages\n",
        "''' ** 1. Functional Programming\n",
        "2. Object oreiented programming languages\n",
        "class is a blue print of an objects ** '''"
      ]
    },
    {
      "cell_type": "code",
      "source": [
        "class Account:\n",
        "  account_no =1\n",
        "  balance=1000"
      ],
      "metadata": {
        "id": "eKfOTiO3AAED"
      },
      "execution_count": null,
      "outputs": []
    },
    {
      "cell_type": "code",
      "source": [
        "Account"
      ],
      "metadata": {
        "colab": {
          "base_uri": "https://localhost:8080/"
        },
        "id": "tBUyhc83AAQb",
        "outputId": "01909faa-18d6-4e4d-b65d-7a1818dd74b1"
      },
      "execution_count": null,
      "outputs": [
        {
          "output_type": "execute_result",
          "data": {
            "text/plain": [
              "__main__.Account"
            ]
          },
          "metadata": {},
          "execution_count": 2
        }
      ]
    },
    {
      "cell_type": "code",
      "source": [
        "class Account1:\n",
        "  def __init__(self,name,accNumber,accbalance):\n",
        "    self.name = name\n",
        "    self.account_no = accNumber\n",
        "    self.bal=accbalance\n",
        "\n"
      ],
      "metadata": {
        "id": "fshXRidWAAS9"
      },
      "execution_count": 1,
      "outputs": []
    },
    {
      "cell_type": "code",
      "source": [
        "# creating object of a class\n",
        "account1= Account1('aaa',111,1000)\n",
        "account2 = Account1('bbb',121,2000)\n",
        "account3 = Account1('ccc',131,2000)"
      ],
      "metadata": {
        "id": "4GR_3lhpAAWH"
      },
      "execution_count": 2,
      "outputs": []
    },
    {
      "cell_type": "code",
      "source": [
        "#checking the values gien to the objects\n",
        "\n",
        "account1.bal"
      ],
      "metadata": {
        "colab": {
          "base_uri": "https://localhost:8080/"
        },
        "id": "HZkMPlQMCvkg",
        "outputId": "be49295e-4157-4e24-9df6-dc61eb19e56f"
      },
      "execution_count": 3,
      "outputs": [
        {
          "output_type": "execute_result",
          "data": {
            "text/plain": [
              "1000"
            ]
          },
          "metadata": {},
          "execution_count": 3
        }
      ]
    },
    {
      "cell_type": "code",
      "source": [
        "account2.bal"
      ],
      "metadata": {
        "colab": {
          "base_uri": "https://localhost:8080/"
        },
        "id": "IZ8fL4ByDBWA",
        "outputId": "32999bef-08ae-4cee-cc1e-1f41369125b8"
      },
      "execution_count": 4,
      "outputs": [
        {
          "output_type": "execute_result",
          "data": {
            "text/plain": [
              "2000"
            ]
          },
          "metadata": {},
          "execution_count": 4
        }
      ]
    },
    {
      "cell_type": "code",
      "source": [
        "account3.bal"
      ],
      "metadata": {
        "colab": {
          "base_uri": "https://localhost:8080/"
        },
        "id": "ma4NCHPgDMla",
        "outputId": "90a28508-2365-4bd5-945f-65a62ec1432a"
      },
      "execution_count": 5,
      "outputs": [
        {
          "output_type": "execute_result",
          "data": {
            "text/plain": [
              "2000"
            ]
          },
          "metadata": {},
          "execution_count": 5
        }
      ]
    },
    {
      "cell_type": "code",
      "source": [
        "account1.name"
      ],
      "metadata": {
        "colab": {
          "base_uri": "https://localhost:8080/",
          "height": 36
        },
        "id": "SOqgWmefDPbe",
        "outputId": "df6b5712-0abd-40ed-b3ab-4339a5b52333"
      },
      "execution_count": 6,
      "outputs": [
        {
          "output_type": "execute_result",
          "data": {
            "text/plain": [
              "'aaa'"
            ],
            "application/vnd.google.colaboratory.intrinsic+json": {
              "type": "string"
            }
          },
          "metadata": {},
          "execution_count": 6
        }
      ]
    },
    {
      "cell_type": "code",
      "source": [
        "account2.account_no"
      ],
      "metadata": {
        "colab": {
          "base_uri": "https://localhost:8080/"
        },
        "id": "e56KdoTODpAo",
        "outputId": "49f2e1f4-b42d-48ee-f724-75267af51145"
      },
      "execution_count": 7,
      "outputs": [
        {
          "output_type": "execute_result",
          "data": {
            "text/plain": [
              "121"
            ]
          },
          "metadata": {},
          "execution_count": 7
        }
      ]
    },
    {
      "cell_type": "code",
      "source": [
        "class Account1: #constructor\n",
        "  def __init__(self,name,accNumber,accbalance):\n",
        "    self.name = name\n",
        "    self.account_no = accNumber\n",
        "    self.bal=accbalance\n",
        "\n",
        "  def __str__(self): # printing the stmt -return Account 111 has a amount $ 2000\n",
        "   return f'Account {self.account_no} has a amount $ {self.bal}'"
      ],
      "metadata": {
        "id": "R-GpPmNZDrWk"
      },
      "execution_count": 12,
      "outputs": []
    },
    {
      "cell_type": "code",
      "source": [
        "# creating object of a class\n",
        "account1= Account1('aaa',111,1000)\n",
        "account2 = Account1('bbb',121,2000)\n",
        "account3 = Account1('ccc',131,2000)"
      ],
      "metadata": {
        "id": "0KKcjHBlpT-_"
      },
      "execution_count": 14,
      "outputs": []
    },
    {
      "cell_type": "code",
      "source": [
        "print(account1)"
      ],
      "metadata": {
        "colab": {
          "base_uri": "https://localhost:8080/"
        },
        "id": "vtPIpfYdEToF",
        "outputId": "06334a11-5122-4594-e63b-a74a252a1dbc"
      },
      "execution_count": 15,
      "outputs": [
        {
          "output_type": "stream",
          "name": "stdout",
          "text": [
            "Account 111 has a amount $ 1000\n"
          ]
        }
      ]
    },
    {
      "cell_type": "code",
      "source": [
        "print(account2)"
      ],
      "metadata": {
        "colab": {
          "base_uri": "https://localhost:8080/"
        },
        "id": "0r8WtCroEguw",
        "outputId": "62496008-9914-4da9-9f5b-48d3df6f426e"
      },
      "execution_count": 16,
      "outputs": [
        {
          "output_type": "stream",
          "name": "stdout",
          "text": [
            "Account 121 has a amount $ 2000\n"
          ]
        }
      ]
    },
    {
      "cell_type": "code",
      "source": [
        "#create two methods for the class\n",
        "def deposit(self,amount):\n",
        "  self.bal= self.bal+amount"
      ],
      "metadata": {
        "id": "78E_q3LyE0PI"
      },
      "execution_count": 17,
      "outputs": []
    },
    {
      "cell_type": "code",
      "source": [
        "#create two methods for the class\n",
        "def withdraw(self,amount):\n",
        "  self.bal= self.bal-amount"
      ],
      "metadata": {
        "id": "_Ecswu2tFZG_"
      },
      "execution_count": null,
      "outputs": []
    },
    {
      "cell_type": "code",
      "source": [
        "account1.deposit(200)"
      ],
      "metadata": {
        "id": "CEM2H3KpFZDj",
        "colab": {
          "base_uri": "https://localhost:8080/",
          "height": 175
        },
        "outputId": "98fe7a9d-957a-4e61-e940-fd1cf55ab24d"
      },
      "execution_count": 18,
      "outputs": [
        {
          "output_type": "error",
          "ename": "AttributeError",
          "evalue": "'Account1' object has no attribute 'deposit'",
          "traceback": [
            "\u001b[0;31m---------------------------------------------------------------------------\u001b[0m",
            "\u001b[0;31mAttributeError\u001b[0m                            Traceback (most recent call last)",
            "\u001b[0;32m<ipython-input-18-758a4581ff4d>\u001b[0m in \u001b[0;36m<cell line: 1>\u001b[0;34m()\u001b[0m\n\u001b[0;32m----> 1\u001b[0;31m \u001b[0maccount1\u001b[0m\u001b[0;34m.\u001b[0m\u001b[0mdeposit\u001b[0m\u001b[0;34m(\u001b[0m\u001b[0;36m200\u001b[0m\u001b[0;34m)\u001b[0m\u001b[0;34m\u001b[0m\u001b[0;34m\u001b[0m\u001b[0m\n\u001b[0m",
            "\u001b[0;31mAttributeError\u001b[0m: 'Account1' object has no attribute 'deposit'"
          ]
        }
      ]
    },
    {
      "cell_type": "code",
      "source": [
        "class Account1: #constructor\n",
        "  def __init__(self,name,accNumber,accbalance):\n",
        "    self.name = name\n",
        "    self.account_no = accNumber\n",
        "    self.bal=accbalance\n",
        "\n",
        "  #create user defined fn/two methods for the class\n",
        "  def deposit(self,amount):\n",
        "    if amount > 0:\n",
        "      self.bal= self.bal+amount\n",
        "    else:\n",
        "      return f' Please enter the positive amount'\n",
        "\n",
        "  def withdraw(self, amount):\n",
        "      if amount > 0 and self.bal >= amount:\n",
        "        self.bal=self.bal-amount\n",
        "      else:\n",
        "        return f'Amount should be lesser than the balance'\n",
        "\n",
        "\n",
        "\n",
        "\n",
        "\n",
        "  def __str__(self): # printing the stmt -return Account 111 has a amount $ 2000\n",
        "   return f'Account {self.account_no} has a amount $ {self.bal}'"
      ],
      "metadata": {
        "id": "YXJWIczZFY-Z"
      },
      "execution_count": 61,
      "outputs": []
    },
    {
      "cell_type": "code",
      "source": [
        "# creating object of a class\n",
        "account1= Account1('aaa',111,1000)\n",
        "account2 = Account1('bbb',121,2000)\n",
        "account3 = Account1('ccc',131,2000)"
      ],
      "metadata": {
        "id": "8sY_wYGEFYBm"
      },
      "execution_count": 62,
      "outputs": []
    },
    {
      "cell_type": "code",
      "source": [
        "account1.deposit(200)"
      ],
      "metadata": {
        "id": "driUo05t5x9M"
      },
      "execution_count": 63,
      "outputs": []
    },
    {
      "cell_type": "code",
      "source": [
        "account1.bal"
      ],
      "metadata": {
        "colab": {
          "base_uri": "https://localhost:8080/"
        },
        "id": "nMGB3fhx51qP",
        "outputId": "6d0d3826-474e-4005-e4db-f922afa3e362"
      },
      "execution_count": 64,
      "outputs": [
        {
          "output_type": "execute_result",
          "data": {
            "text/plain": [
              "1200"
            ]
          },
          "metadata": {},
          "execution_count": 64
        }
      ]
    },
    {
      "cell_type": "code",
      "source": [
        "account1.deposit(300)"
      ],
      "metadata": {
        "id": "Fw_r2OuD6C8z"
      },
      "execution_count": 65,
      "outputs": []
    },
    {
      "cell_type": "code",
      "source": [
        "account1.bal"
      ],
      "metadata": {
        "colab": {
          "base_uri": "https://localhost:8080/"
        },
        "id": "rUwZHo5d6Hsw",
        "outputId": "7a3e7895-0079-49ad-e603-cb5798a021cf"
      },
      "execution_count": 66,
      "outputs": [
        {
          "output_type": "execute_result",
          "data": {
            "text/plain": [
              "1500"
            ]
          },
          "metadata": {},
          "execution_count": 66
        }
      ]
    },
    {
      "cell_type": "code",
      "source": [
        "account1.deposit(-300)  #it should be for -ve deposit,no logical,big fault, so add one condition in deposit class"
      ],
      "metadata": {
        "colab": {
          "base_uri": "https://localhost:8080/",
          "height": 36
        },
        "id": "Ui3sxSpk6JpQ",
        "outputId": "344a3c59-9101-4204-852c-7fe983e84ae3"
      },
      "execution_count": 67,
      "outputs": [
        {
          "output_type": "execute_result",
          "data": {
            "text/plain": [
              "' Please enter the positive amount'"
            ],
            "application/vnd.google.colaboratory.intrinsic+json": {
              "type": "string"
            }
          },
          "metadata": {},
          "execution_count": 67
        }
      ]
    },
    {
      "cell_type": "code",
      "source": [
        "account1.bal"
      ],
      "metadata": {
        "colab": {
          "base_uri": "https://localhost:8080/"
        },
        "id": "YyxMvoC36NDt",
        "outputId": "d425c12c-0fd4-4bec-afd0-a1db6bf5c474"
      },
      "execution_count": 68,
      "outputs": [
        {
          "output_type": "execute_result",
          "data": {
            "text/plain": [
              "1500"
            ]
          },
          "metadata": {},
          "execution_count": 68
        }
      ]
    },
    {
      "cell_type": "code",
      "source": [
        "account1.withdraw(500)"
      ],
      "metadata": {
        "id": "r67uZc4Y6PEc"
      },
      "execution_count": 69,
      "outputs": []
    },
    {
      "cell_type": "code",
      "source": [
        "account1.bal"
      ],
      "metadata": {
        "colab": {
          "base_uri": "https://localhost:8080/"
        },
        "id": "F08mMKZy74Le",
        "outputId": "507ccbb4-d165-427c-df1d-b3a56fd402ea"
      },
      "execution_count": 70,
      "outputs": [
        {
          "output_type": "execute_result",
          "data": {
            "text/plain": [
              "1000"
            ]
          },
          "metadata": {},
          "execution_count": 70
        }
      ]
    },
    {
      "cell_type": "code",
      "source": [
        "account1.withdraw(1200) # it should be less than the bal ,so add one more condition"
      ],
      "metadata": {
        "colab": {
          "base_uri": "https://localhost:8080/",
          "height": 36
        },
        "id": "GIaNKwPy8BM0",
        "outputId": "f8de3378-e0a8-481f-f1ba-a6e18cf11c42"
      },
      "execution_count": 71,
      "outputs": [
        {
          "output_type": "execute_result",
          "data": {
            "text/plain": [
              "'Amount should be lesser than the balance'"
            ],
            "application/vnd.google.colaboratory.intrinsic+json": {
              "type": "string"
            }
          },
          "metadata": {},
          "execution_count": 71
        }
      ]
    },
    {
      "cell_type": "code",
      "source": [
        "account1.bal"
      ],
      "metadata": {
        "colab": {
          "base_uri": "https://localhost:8080/"
        },
        "id": "6tMXWOB18FUp",
        "outputId": "8ff44ec6-88e8-4bf7-813b-48b3c57c5fd5"
      },
      "execution_count": 72,
      "outputs": [
        {
          "output_type": "execute_result",
          "data": {
            "text/plain": [
              "1000"
            ]
          },
          "metadata": {},
          "execution_count": 72
        }
      ]
    },
    {
      "cell_type": "code",
      "source": [
        "class Account1: #constructor\n",
        "\n",
        "  counter =1  # class variable cannot be reset but inside the init function is reset every time\n",
        "\n",
        "  def __init__(self,name,accbalance):\n",
        "    self.name = name\n",
        "\n",
        "    Account1.counter +=1\n",
        "    self.account_no = Account1.counter\n",
        "\n",
        "    self.bal=accbalance\n",
        "\n",
        "  #create user defined fn/two methods for the class\n",
        "  def deposit(self,amount):\n",
        "    if amount > 0:\n",
        "      self.bal= self.bal+amount\n",
        "    else:\n",
        "      return f' Please enter the positive amount'\n",
        "\n",
        "  def withdraw(self, amount):\n",
        "      if amount > 0 and self.bal >= amount:\n",
        "        self.bal=self.bal-amount\n",
        "      else:\n",
        "        return f'Amount should be lesser than the balance'"
      ],
      "metadata": {
        "id": "R0iMd7CQ8HKR"
      },
      "execution_count": 83,
      "outputs": []
    },
    {
      "cell_type": "code",
      "source": [
        "acc1= Account1('FFF',1000)\n",
        "acc2 = Account1('GGGG',1100)\n",
        "acc3= Account1('HHHH',4000)"
      ],
      "metadata": {
        "id": "trMGUj_e9pAJ"
      },
      "execution_count": 78,
      "outputs": []
    },
    {
      "cell_type": "code",
      "source": [
        "acc1.account_no"
      ],
      "metadata": {
        "colab": {
          "base_uri": "https://localhost:8080/"
        },
        "id": "rPJC6K_h-1TU",
        "outputId": "8b023ec3-ecb1-4bfb-a1b8-c67aea94d768"
      },
      "execution_count": 79,
      "outputs": [
        {
          "output_type": "execute_result",
          "data": {
            "text/plain": [
              "2"
            ]
          },
          "metadata": {},
          "execution_count": 79
        }
      ]
    },
    {
      "cell_type": "code",
      "source": [
        "acc2.account_no"
      ],
      "metadata": {
        "colab": {
          "base_uri": "https://localhost:8080/"
        },
        "id": "Np9OGGED_Meh",
        "outputId": "9dbfff9d-9849-4fdd-81c5-a18f32b3b51a"
      },
      "execution_count": 80,
      "outputs": [
        {
          "output_type": "execute_result",
          "data": {
            "text/plain": [
              "3"
            ]
          },
          "metadata": {},
          "execution_count": 80
        }
      ]
    },
    {
      "cell_type": "code",
      "source": [
        "acc3.account_no"
      ],
      "metadata": {
        "colab": {
          "base_uri": "https://localhost:8080/"
        },
        "id": "r77qFA61_ZIY",
        "outputId": "750cc5d0-b11f-4d52-bd9d-d5c715164d2e"
      },
      "execution_count": 81,
      "outputs": [
        {
          "output_type": "execute_result",
          "data": {
            "text/plain": [
              "4"
            ]
          },
          "metadata": {},
          "execution_count": 81
        }
      ]
    },
    {
      "cell_type": "code",
      "source": [],
      "metadata": {
        "id": "GmYW0zLx_bYl"
      },
      "execution_count": null,
      "outputs": []
    },
    {
      "cell_type": "code",
      "source": [],
      "metadata": {
        "id": "R5gqjztF_eS6"
      },
      "execution_count": null,
      "outputs": []
    }
  ]
}